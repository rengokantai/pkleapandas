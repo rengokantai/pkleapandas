{
 "cells": [
  {
   "cell_type": "code",
   "execution_count": 58,
   "metadata": {
    "collapsed": true
   },
   "outputs": [],
   "source": [
    "import pandas as pd\n",
    "import pandas.io.data\n",
    "import numpy as np\n",
    "import datetime\n",
    "import matplotlib.pyplot as plt\n",
    "pd.set_option('display.notebook_repr_html', False)\n",
    "pd.set_option('display.max_columns', 6)\n",
    "pd.set_option('display.max_rows', 10) \n",
    "pd.set_option('display.width', 78) \n",
    "pd.set_option('precision', 4)\n",
    "\n",
    "%matplotlib inline"
   ]
  },
  {
   "cell_type": "code",
   "execution_count": 59,
   "metadata": {
    "collapsed": true
   },
   "outputs": [],
   "source": [
    "def getStockData(tk,start,end):\n",
    "    data = pd.io.data.DataReader(tk,\"yahoo\",start,end)\n",
    "    data.rename(columns={'Adj Close':'AdjClose'},inplace=True)\n",
    "    data.insert(0,\"Ticker\",tk)\n",
    "    return data"
   ]
  },
  {
   "cell_type": "code",
   "execution_count": 60,
   "metadata": {
    "collapsed": false
   },
   "outputs": [
    {
     "data": {
      "text/plain": [
       "           Ticker    Open    High    ...      Close   Volume  AdjClose\n",
       "Date                                 ...                              \n",
       "2016-01-04   GOOG  743.00  744.06    ...     741.84  3272800    741.84\n",
       "2016-01-05   GOOG  746.45  752.00    ...     742.58  1950700    742.58\n",
       "2016-01-06   GOOG  730.00  747.18    ...     743.62  1947000    743.62\n",
       "2016-01-07   GOOG  730.31  738.50    ...     726.39  2963700    726.39\n",
       "2016-01-08   GOOG  731.45  733.23    ...     714.47  2450900    714.47\n",
       "\n",
       "[5 rows x 7 columns]"
      ]
     },
     "execution_count": 60,
     "metadata": {},
     "output_type": "execute_result"
    }
   ],
   "source": [
    "start = datetime.datetime(2016,1,1)\n",
    "end = datetime.datetime(2016,1,11)\n",
    "getStockData(\"GOOG\",start,end).head()"
   ]
  },
  {
   "cell_type": "code",
   "execution_count": 61,
   "metadata": {
    "collapsed": true
   },
   "outputs": [],
   "source": [
    "#get multiple tickers\n",
    "def getMultipleData(tickers,start,end):\n",
    "    stocks = dict()\n",
    "    for ticker in tickers:\n",
    "        s = getStockData(ticker,start,end)\n",
    "        stocks[ticker] =s \n",
    "    return stocks"
   ]
  },
  {
   "cell_type": "code",
   "execution_count": 62,
   "metadata": {
    "collapsed": false
   },
   "outputs": [
    {
     "data": {
      "text/plain": [
       "           Ticker   Open   High    ...     Close    Volume  AdjClose\n",
       "Date                               ...                              \n",
       "2016-01-04   MSFT  54.32  54.80    ...     54.80  53778000    54.031\n",
       "2016-01-05   MSFT  54.93  55.39    ...     55.05  34079700    54.278\n",
       "2016-01-06   MSFT  54.32  54.40    ...     54.05  39518900    53.292\n",
       "\n",
       "[3 rows x 7 columns]"
      ]
     },
     "execution_count": 62,
     "metadata": {},
     "output_type": "execute_result"
    }
   ],
   "source": [
    "arr = getMultipleData([\"MSFT\",\"AAPL\"],start,end)\n",
    "arr['MSFT'][:3]"
   ]
  },
  {
   "cell_type": "code",
   "execution_count": 63,
   "metadata": {
    "collapsed": true
   },
   "outputs": [],
   "source": [
    "def pivotTicket(arr,column):\n",
    "    items = []\n",
    "    for key in arr:\n",
    "        data = arr[key]\n",
    "        subset = data[[\"Ticker\",column]]\n",
    "        items.append(subset)\n",
    "    combined = pd.concat(items)\n",
    "    ri = combined.reset_index()\n",
    "    return ri.pivot(\"Date\",\"Ticker\",column)"
   ]
  },
  {
   "cell_type": "code",
   "execution_count": 64,
   "metadata": {
    "collapsed": false
   },
   "outputs": [
    {
     "data": {
      "text/plain": [
       "Ticker         AAPL    MSFT\n",
       "Date                       \n",
       "2016-01-04  104.147  54.031\n",
       "2016-01-05  101.537  54.278\n",
       "2016-01-06   99.550  53.292"
      ]
     },
     "execution_count": 64,
     "metadata": {},
     "output_type": "execute_result"
    }
   ],
   "source": [
    "closepx = pivotTicket(arr,\"AdjClose\")\n",
    "closepx[:3]"
   ]
  },
  {
   "cell_type": "code",
   "execution_count": 65,
   "metadata": {
    "collapsed": false
   },
   "outputs": [
    {
     "data": {
      "text/plain": [
       "<matplotlib.axes._subplots.AxesSubplot at 0x63d5f90>"
      ]
     },
     "execution_count": 65,
     "metadata": {},
     "output_type": "execute_result"
    },
    {
     "data": {
      "image/png": "[encoded data removed]",
      "text/plain": [
       "<matplotlib.figure.Figure at 0x6468e70>"
      ]
     },
     "metadata": {},
     "output_type": "display_data"
    }
   ],
   "source": [
    "# single company plot\n",
    "closepx['MSFT'].plot()"
   ]
  },
  {
   "cell_type": "code",
   "execution_count": 66,
   "metadata": {
    "collapsed": false
   },
   "outputs": [
    {
     "data": {
      "text/plain": [
       "<matplotlib.axes._subplots.AxesSubplot at 0x63f0510>"
      ]
     },
     "execution_count": 66,
     "metadata": {},
     "output_type": "execute_result"
    },
    {
     "data": {
      "image/png": "[encoded data removed]",
      "text/plain": [
       "<matplotlib.figure.Figure at 0x63f5930>"
      ]
     },
     "metadata": {},
     "output_type": "display_data"
    }
   ],
   "source": [
    "# single company plot\n",
    "closepx[['MSFT','AAPL']].plot()"
   ]
  },
  {
   "cell_type": "code",
   "execution_count": 67,
   "metadata": {
    "collapsed": false
   },
   "outputs": [
    {
     "data": {
      "text/plain": [
       "Ticker          AAPL      MSFT\n",
       "Date                          \n",
       "2016-01-05  55791000  34079700\n",
       "2016-01-06  68457400  39518900\n",
       "2016-01-07  81094400  56564900\n",
       "2016-01-08  70798000  48754000\n",
       "2016-01-11  49739400  36943800"
      ]
     },
     "execution_count": 67,
     "metadata": {},
     "output_type": "execute_result"
    }
   ],
   "source": [
    "volumes = pivotTicket(arr,\"Volume\")\n",
    "volumes.tail()"
   ]
  },
  {
   "cell_type": "code",
   "execution_count": 70,
   "metadata": {
    "collapsed": false
   },
   "outputs": [
    {
     "data": {
      "image/png": "[encoded data removed]",
      "text/plain": [
       "<matplotlib.figure.Figure at 0x6429530>"
      ]
     },
     "metadata": {},
     "output_type": "display_data"
    }
   ],
   "source": [
    "msft = volumes[[\"MSFT\"]]\n",
    "plt.bar(msft.index,msft[\"MSFT\"])\n",
    "plt.gcf().set_size_inches(15,8)"
   ]
  },
  {
   "cell_type": "code",
   "execution_count": null,
   "metadata": {
    "collapsed": true
   },
   "outputs": [],
   "source": []
  }
 ],
 "metadata": {
  "kernelspec": {
   "display_name": "Python 3",
   "language": "python",
   "name": "python3"
  },
  "language_info": {
   "codemirror_mode": {
    "name": "ipython",
    "version": 3
   },
   "file_extension": ".py",
   "mimetype": "text/x-python",
   "name": "python",
   "nbconvert_exporter": "python",
   "pygments_lexer": "ipython3",
   "version": "3.4.3"
  }
 },
 "nbformat": 4,
 "nbformat_minor": 0
}
