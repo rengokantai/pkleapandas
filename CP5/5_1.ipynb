{
 "cells": [
  {
   "cell_type": "code",
   "execution_count": 2,
   "metadata": {
    "collapsed": true
   },
   "outputs": [],
   "source": [
    "import numpy as np\n",
    "import pandas as pd\n",
    "pd.set_option('display.notebook_repr_html',False)\n",
    "pd.set_option('display.max_columns',10)\n",
    "pd.set_option('display.max_rows',10)"
   ]
  },
  {
   "cell_type": "code",
   "execution_count": 3,
   "metadata": {
    "collapsed": false
   },
   "outputs": [
    {
     "data": {
      "text/plain": [
       "    0   1\n",
       "0  10  11\n",
       "1  20  21"
      ]
     },
     "execution_count": 3,
     "metadata": {},
     "output_type": "execute_result"
    }
   ],
   "source": [
    "#First DataFrame\n",
    "pd.DataFrame(np.array([[10,11],[20,21]]))"
   ]
  },
  {
   "cell_type": "code",
   "execution_count": 4,
   "metadata": {
    "collapsed": false
   },
   "outputs": [
    {
     "data": {
      "text/plain": [
       "    0   1   2   3   4\n",
       "0   0   1   2   3   4\n",
       "1  10  11  12  13  14"
      ]
     },
     "execution_count": 4,
     "metadata": {},
     "output_type": "execute_result"
    }
   ],
   "source": [
    "df1=pd.DataFrame([pd.Series(np.arange(5)),np.arange(10,15)])#CANNOT apply columns=...\n",
    "df1"
   ]
  },
  {
   "cell_type": "code",
   "execution_count": 5,
   "metadata": {
    "collapsed": false
   },
   "outputs": [
    {
     "data": {
      "text/plain": [
       "(2, 5)"
      ]
     },
     "execution_count": 5,
     "metadata": {},
     "output_type": "execute_result"
    }
   ],
   "source": [
    "df1.shape"
   ]
  },
  {
   "cell_type": "code",
   "execution_count": 6,
   "metadata": {
    "collapsed": false
   },
   "outputs": [
    {
     "data": {
      "text/plain": [
       "    a   b\n",
       "0  10  11\n",
       "1  20  21"
      ]
     },
     "execution_count": 6,
     "metadata": {},
     "output_type": "execute_result"
    }
   ],
   "source": [
    "#custom column names\n",
    "df2=pd.DataFrame(np.array([[10,11],[20,21]]),columns=['a','b'])\n",
    "df2"
   ]
  },
  {
   "cell_type": "code",
   "execution_count": 7,
   "metadata": {
    "collapsed": false
   },
   "outputs": [
    {
     "data": {
      "text/plain": [
       "Index(['a', 'b'], dtype='object')"
      ]
     },
     "execution_count": 7,
     "metadata": {},
     "output_type": "execute_result"
    }
   ],
   "source": [
    "df2.columns"
   ]
  },
  {
   "cell_type": "code",
   "execution_count": 8,
   "metadata": {
    "collapsed": false
   },
   "outputs": [
    {
     "data": {
      "text/plain": [
       "'a,b'"
      ]
     },
     "execution_count": 8,
     "metadata": {},
     "output_type": "execute_result"
    }
   ],
   "source": [
    "\"{},{}\".format(df2.columns[0],df2.columns[1])"
   ]
  },
  {
   "cell_type": "code",
   "execution_count": 9,
   "metadata": {
    "collapsed": false
   },
   "outputs": [
    {
     "data": {
      "text/plain": [
       "    c   d\n",
       "0  10  11\n",
       "1  20  21"
      ]
     },
     "execution_count": 9,
     "metadata": {},
     "output_type": "execute_result"
    }
   ],
   "source": [
    "df2.columns=['c','d']\n",
    "df2"
   ]
  },
  {
   "cell_type": "code",
   "execution_count": 10,
   "metadata": {
    "collapsed": false
   },
   "outputs": [
    {
     "data": {
      "text/plain": [
       "    c1  c2\n",
       "r1  10  11\n",
       "r2  20  21"
      ]
     },
     "execution_count": 10,
     "metadata": {},
     "output_type": "execute_result"
    }
   ],
   "source": [
    "df3=pd.DataFrame(np.array([[10,11],[20,21]]),columns=['c1','c2'],index=['r1','r2'])\n",
    "df3"
   ]
  },
  {
   "cell_type": "code",
   "execution_count": 11,
   "metadata": {
    "collapsed": false
   },
   "outputs": [
    {
     "data": {
      "text/plain": [
       "   c1  c2\n",
       "0   0  10\n",
       "1   2  12\n",
       "2   4  14\n",
       "3   6  16\n",
       "4   8  18"
      ]
     },
     "execution_count": 11,
     "metadata": {},
     "output_type": "execute_result"
    }
   ],
   "source": [
    "s1=pd.Series(np.arange(0,10,2))\n",
    "s2=pd.Series(np.arange(10,20,2))\n",
    "pd.DataFrame({'c1':s1,'c2':s2})"
   ]
  },
  {
   "cell_type": "code",
   "execution_count": 12,
   "metadata": {
    "collapsed": false
   },
   "outputs": [
    {
     "data": {
      "text/plain": [
       "                        Sector     Price  Book Value\n",
       "Symbol                                              \n",
       "MMM                Industrials  137.9200      20.960\n",
       "ABT                Health Care   42.2199      15.437\n",
       "ABBV               Health Care   57.6700       3.330\n",
       "ACN     Information Technology   96.2400       9.470\n",
       "ACE                 Financials  100.8900      91.270"
      ]
     },
     "execution_count": 12,
     "metadata": {},
     "output_type": "execute_result"
    }
   ],
   "source": [
    "sp500=pd.read_csv(\"financial.csv\",index_col='Symbol',usecols=[0,2,3,7])\n",
    "sp500.head()"
   ]
  },
  {
   "cell_type": "code",
   "execution_count": 13,
   "metadata": {
    "collapsed": false
   },
   "outputs": [
    {
     "data": {
      "text/plain": [
       "                        Sector   Price  Book Value\n",
       "Symbol                                            \n",
       "XYL                Industrials  32.305      11.460\n",
       "YHOO    Information Technology  30.445      35.679\n",
       "YUM     Consumer Discretionary  79.600       3.630\n",
       "ZBH                Health Care  97.460      49.800\n",
       "ZTS                Health Care  44.250       2.360"
      ]
     },
     "execution_count": 13,
     "metadata": {},
     "output_type": "execute_result"
    }
   ],
   "source": [
    "sp500.tail()"
   ]
  },
  {
   "cell_type": "code",
   "execution_count": 14,
   "metadata": {
    "collapsed": false
   },
   "outputs": [
    {
     "data": {
      "text/plain": [
       "494"
      ]
     },
     "execution_count": 14,
     "metadata": {},
     "output_type": "execute_result"
    }
   ],
   "source": [
    "len(sp500)"
   ]
  },
  {
   "cell_type": "code",
   "execution_count": 15,
   "metadata": {
    "collapsed": false
   },
   "outputs": [
    {
     "data": {
      "text/plain": [
       "Index(['MMM', 'ABT', 'ABBV', 'ACN', 'ACE', 'ADBE', 'ADT', 'AES', 'AET', 'AMG', \n",
       "       ...\n",
       "       'WYNN', 'XEL', 'XRX', 'XLNX', 'XL', 'XYL', 'YHOO', 'YUM', 'ZBH', 'ZTS'],\n",
       "      dtype='object', name='Symbol', length=494)"
      ]
     },
     "execution_count": 15,
     "metadata": {},
     "output_type": "execute_result"
    }
   ],
   "source": [
    "sp500.index"
   ]
  },
  {
   "cell_type": "code",
   "execution_count": 16,
   "metadata": {
    "collapsed": false
   },
   "outputs": [
    {
     "data": {
      "text/plain": [
       "Index(['Sector', 'Price', 'Book Value'], dtype='object')"
      ]
     },
     "execution_count": 16,
     "metadata": {},
     "output_type": "execute_result"
    }
   ],
   "source": [
    "sp500.columns"
   ]
  },
  {
   "cell_type": "code",
   "execution_count": 17,
   "metadata": {
    "collapsed": false
   },
   "outputs": [
    {
     "name": "stdout",
     "output_type": "stream",
     "text": [
      "Symbol,Name,Sector,Price,Dividend Yield,Price/Earnings,Earnings/Share,Book Value,52 week low,52 week high,Market Cap,EBITDA,Price/Sales,Price/Book,SEC Filings\n",
      "MMM,3M Co,Industrials,137.92,2.94,18.00,7.66,20.96,130.60,170.50,86.16,8.52,2.81,6.68,http://www.sec.gov/cgi-bin/browse-edgar?action=getcompany&CIK=MMM\n",
      "ABT,Abbott Laboratories,Health Care,42.2199,2.2200,14.1868,2.9760,15.4370,39.2800,51.7400,62.93,4.64,3.1478,2.8049,http://www.sec.gov/cgi-bin/browse-edgar?action=getcompany&CIK=ABT\n"
     ]
    }
   ],
   "source": [
    "!head -n 3 financial.csv"
   ]
  },
  {
   "cell_type": "code",
   "execution_count": 18,
   "metadata": {
    "collapsed": false
   },
   "outputs": [
    {
     "data": {
      "text/plain": [
       "  Symbol                 Name       Sector     Price  Dividend Yield  \\\n",
       "0    MMM                3M Co  Industrials  137.9200            2.94   \n",
       "1    ABT  Abbott Laboratories  Health Care   42.2199            2.22   \n",
       "2   ABBV               AbbVie  Health Care   57.6700            3.33   \n",
       "\n",
       "                         ...                          Market Cap  EBITDA  \\\n",
       "0                        ...                               86.16    8.52   \n",
       "1                        ...                               62.93    4.64   \n",
       "2                        ...                               95.46    7.83   \n",
       "\n",
       "   Price/Sales  Price/Book                                        SEC Filings  \n",
       "0       2.8100      6.6800  http://www.sec.gov/cgi-bin/browse-edgar?action...  \n",
       "1       3.1478      2.8049  http://www.sec.gov/cgi-bin/browse-edgar?action...  \n",
       "2       4.6800     17.8600  http://www.sec.gov/cgi-bin/browse-edgar?action...  \n",
       "\n",
       "[3 rows x 15 columns]"
      ]
     },
     "execution_count": 18,
     "metadata": {},
     "output_type": "execute_result"
    }
   ],
   "source": [
    "one_month = pd.read_csv(\"financial.csv\")\n",
    "one_month[:3]"
   ]
  },
  {
   "cell_type": "code",
   "execution_count": 19,
   "metadata": {
    "collapsed": false
   },
   "outputs": [
    {
     "data": {
      "text/plain": [
       "           Price  Book Value\n",
       "Symbol                      \n",
       "MMM     137.9200      20.960\n",
       "ABT      42.2199      15.437\n",
       "ABBV     57.6700       3.330\n",
       "ACN      96.2400       9.470\n",
       "ACE     100.8900      91.270"
      ]
     },
     "execution_count": 19,
     "metadata": {},
     "output_type": "execute_result"
    }
   ],
   "source": [
    "sp500[[1,2]].head()"
   ]
  },
  {
   "cell_type": "code",
   "execution_count": 20,
   "metadata": {
    "collapsed": false
   },
   "outputs": [
    {
     "data": {
      "text/plain": [
       "pandas.core.frame.DataFrame"
      ]
     },
     "execution_count": 20,
     "metadata": {},
     "output_type": "execute_result"
    }
   ],
   "source": [
    "# a single column is a DataFrame.\n",
    "type(sp500[[1]].head())"
   ]
  },
  {
   "cell_type": "code",
   "execution_count": 21,
   "metadata": {
    "collapsed": false
   },
   "outputs": [
    {
     "data": {
      "text/plain": [
       "                             0         1       2\n",
       "Symbol                                          \n",
       "MMM                Industrials  137.9200  20.960\n",
       "ABT                Health Care   42.2199  15.437\n",
       "ABBV               Health Care   57.6700   3.330\n",
       "ACN     Information Technology   96.2400   9.470\n",
       "ACE                 Financials  100.8900  91.270"
      ]
     },
     "execution_count": 21,
     "metadata": {},
     "output_type": "execute_result"
    }
   ],
   "source": [
    "df5=sp500.copy()\n",
    "df5.columns=[0,1,2]  #Rename column\n",
    "df5.head()"
   ]
  },
  {
   "cell_type": "code",
   "execution_count": 22,
   "metadata": {
    "collapsed": false
   },
   "outputs": [
    {
     "data": {
      "text/plain": [
       "pandas.core.frame.DataFrame"
      ]
     },
     "execution_count": 22,
     "metadata": {},
     "output_type": "execute_result"
    }
   ],
   "source": [
    "type(df5[[1]]) # DataFrame,column at index 1"
   ]
  },
  {
   "cell_type": "code",
   "execution_count": 23,
   "metadata": {
    "collapsed": false
   },
   "outputs": [
    {
     "data": {
      "text/plain": [
       "pandas.core.series.Series"
      ]
     },
     "execution_count": 23,
     "metadata": {},
     "output_type": "execute_result"
    }
   ],
   "source": [
    "type(df5[1])  #Series,column named 1"
   ]
  },
  {
   "cell_type": "code",
   "execution_count": 24,
   "metadata": {
    "collapsed": false
   },
   "outputs": [
    {
     "data": {
      "text/plain": [
       "Symbol\n",
       "MMM     137.9200\n",
       "ABT      42.2199\n",
       "ABBV     57.6700\n",
       "ACN      96.2400\n",
       "ACE     100.8900\n",
       "          ...   \n",
       "XYL      32.3050\n",
       "YHOO     30.4450\n",
       "YUM      79.6000\n",
       "ZBH      97.4600\n",
       "ZTS      44.2500\n",
       "Name: Price, dtype: float64"
      ]
     },
     "execution_count": 24,
     "metadata": {},
     "output_type": "execute_result"
    }
   ],
   "source": [
    "sp500.Price"
   ]
  },
  {
   "cell_type": "code",
   "execution_count": 25,
   "metadata": {
    "collapsed": false
   },
   "outputs": [
    {
     "data": {
      "text/plain": [
       "Symbol\n",
       "MMM     137.9200\n",
       "ABT      42.2199\n",
       "ABBV     57.6700\n",
       "ACN      96.2400\n",
       "ACE     100.8900\n",
       "          ...   \n",
       "XYL      32.3050\n",
       "YHOO     30.4450\n",
       "YUM      79.6000\n",
       "ZBH      97.4600\n",
       "ZTS      44.2500\n",
       "Name: Price, dtype: float64"
      ]
     },
     "execution_count": 25,
     "metadata": {},
     "output_type": "execute_result"
    }
   ],
   "source": [
    "sp500['Price']"
   ]
  },
  {
   "cell_type": "code",
   "execution_count": 26,
   "metadata": {
    "collapsed": false
   },
   "outputs": [
    {
     "data": {
      "text/plain": [
       "1"
      ]
     },
     "execution_count": 26,
     "metadata": {},
     "output_type": "execute_result"
    }
   ],
   "source": [
    "sp500.columns.get_loc('Price')"
   ]
  },
  {
   "cell_type": "code",
   "execution_count": 27,
   "metadata": {
    "collapsed": false
   },
   "outputs": [
    {
     "data": {
      "text/plain": [
       "                        Sector     Price  Book Value\n",
       "Symbol                                              \n",
       "MMM                Industrials  137.9200      20.960\n",
       "ABT                Health Care   42.2199      15.437\n",
       "ABBV               Health Care   57.6700       3.330\n",
       "ACN     Information Technology   96.2400       9.470\n",
       "ACE                 Financials  100.8900      91.270"
      ]
     },
     "execution_count": 27,
     "metadata": {},
     "output_type": "execute_result"
    }
   ],
   "source": [
    "sp500[:5]"
   ]
  },
  {
   "cell_type": "code",
   "execution_count": 28,
   "metadata": {
    "collapsed": false
   },
   "outputs": [
    {
     "data": {
      "text/plain": [
       "                        Sector    Price  Book Value\n",
       "Symbol                                             \n",
       "ABT                Health Care  42.2199      15.437\n",
       "ABBV               Health Care  57.6700       3.330\n",
       "ACN     Information Technology  96.2400       9.470"
      ]
     },
     "execution_count": 28,
     "metadata": {},
     "output_type": "execute_result"
    }
   ],
   "source": [
    "sp500['ABT':'ACN']"
   ]
  },
  {
   "cell_type": "code",
   "execution_count": 29,
   "metadata": {
    "collapsed": false
   },
   "outputs": [
    {
     "data": {
      "text/plain": [
       "Sector        Industrials\n",
       "Price              137.92\n",
       "Book Value          20.96\n",
       "Name: MMM, dtype: object"
      ]
     },
     "execution_count": 29,
     "metadata": {},
     "output_type": "execute_result"
    }
   ],
   "source": [
    "sp500.loc['MMM'] #Series"
   ]
  },
  {
   "cell_type": "code",
   "execution_count": 30,
   "metadata": {
    "collapsed": false
   },
   "outputs": [
    {
     "data": {
      "text/plain": [
       "             Sector   Price  Book Value\n",
       "Symbol                                 \n",
       "MMM     Industrials  137.92       20.96"
      ]
     },
     "execution_count": 30,
     "metadata": {},
     "output_type": "execute_result"
    }
   ],
   "source": [
    "sp500.loc[['MMM']] #DataFrame"
   ]
  },
  {
   "cell_type": "code",
   "execution_count": 31,
   "metadata": {
    "collapsed": false
   },
   "outputs": [
    {
     "data": {
      "text/plain": [
       "             Sector   Price  Book Value\n",
       "Symbol                                 \n",
       "MMM     Industrials  137.92       20.96\n",
       "ABBV    Health Care   57.67        3.33"
      ]
     },
     "execution_count": 31,
     "metadata": {},
     "output_type": "execute_result"
    }
   ],
   "source": [
    "#using iloc\n",
    "sp500.iloc[[0,2]]"
   ]
  },
  {
   "cell_type": "code",
   "execution_count": 32,
   "metadata": {
    "collapsed": false
   },
   "outputs": [
    {
     "data": {
      "text/plain": [
       "11"
      ]
     },
     "execution_count": 32,
     "metadata": {},
     "output_type": "execute_result"
    }
   ],
   "source": [
    "sp500.index.get_loc('A')"
   ]
  },
  {
   "cell_type": "code",
   "execution_count": 33,
   "metadata": {
    "collapsed": false
   },
   "outputs": [
    {
     "data": {
      "text/plain": [
       "137.91999999999999"
      ]
     },
     "execution_count": 33,
     "metadata": {},
     "output_type": "execute_result"
    }
   ],
   "source": [
    "sp500.at['MMM','Price']  # No double bracket"
   ]
  },
  {
   "cell_type": "code",
   "execution_count": 34,
   "metadata": {
    "collapsed": false
   },
   "outputs": [
    {
     "data": {
      "text/plain": [
       "137.91999999999999"
      ]
     },
     "execution_count": 34,
     "metadata": {},
     "output_type": "execute_result"
    }
   ],
   "source": [
    "sp500.iat[0,1]  #index based"
   ]
  },
  {
   "cell_type": "code",
   "execution_count": 35,
   "metadata": {
    "collapsed": false
   },
   "outputs": [
    {
     "data": {
      "text/plain": [
       "Symbol\n",
       "MMM     False\n",
       "ABT     False\n",
       "ABBV    False\n",
       "ACN     False\n",
       "ACE     False\n",
       "        ...  \n",
       "XYL      True\n",
       "YHOO     True\n",
       "YUM     False\n",
       "ZBH     False\n",
       "ZTS     False\n",
       "Name: Price, dtype: bool"
      ]
     },
     "execution_count": 35,
     "metadata": {},
     "output_type": "execute_result"
    }
   ],
   "source": [
    "sp500.Price<40"
   ]
  },
  {
   "cell_type": "code",
   "execution_count": 36,
   "metadata": {
    "collapsed": false
   },
   "outputs": [
    {
     "data": {
      "text/plain": [
       "                        Sector   Price  Book Value\n",
       "Symbol                                            \n",
       "ADT                Industrials  30.900      17.950\n",
       "AES                  Utilities  10.620       5.660\n",
       "A                  Health Care  35.080      12.360\n",
       "AA                   Materials   9.450      10.020\n",
       "ATI                  Materials  16.070      23.660\n",
       "...                        ...     ...         ...\n",
       "XEL                  Utilities  33.950      20.260\n",
       "XRX     Information Technology  10.335       9.407\n",
       "XL                  Financials  36.910      40.300\n",
       "XYL                Industrials  32.305      11.460\n",
       "YHOO    Information Technology  30.445      35.679\n",
       "\n",
       "[138 rows x 3 columns]"
      ]
     },
     "execution_count": 36,
     "metadata": {},
     "output_type": "execute_result"
    }
   ],
   "source": [
    "sp500[sp500.Price<40] #boolean expr, no double bracket"
   ]
  },
  {
   "cell_type": "code",
   "execution_count": 37,
   "metadata": {
    "collapsed": false
   },
   "outputs": [
    {
     "data": {
      "text/plain": [
       "          Price\n",
       "Symbol         \n",
       "ABT     42.2199\n",
       "ADT     30.9000\n",
       "AES     10.6200\n",
       "A       35.0800\n",
       "AA       9.4500\n",
       "...         ...\n",
       "XLNX    41.5900\n",
       "XL      36.9100\n",
       "XYL     32.3050\n",
       "YHOO    30.4450\n",
       "ZTS     44.2500\n",
       "\n",
       "[202 rows x 1 columns]"
      ]
     },
     "execution_count": 37,
     "metadata": {},
     "output_type": "execute_result"
    }
   ],
   "source": [
    "sp500bool = sp500[sp500.Price<50][['Price']]\n",
    "sp500bool"
   ]
  },
  {
   "cell_type": "code",
   "execution_count": 38,
   "metadata": {
    "collapsed": false
   },
   "outputs": [
    {
     "data": {
      "text/plain": [
       "                        Sector     Price  BookValue\n",
       "Symbol                                             \n",
       "MMM                Industrials  137.9200     20.960\n",
       "ABT                Health Care   42.2199     15.437\n",
       "ABBV               Health Care   57.6700      3.330\n",
       "ACN     Information Technology   96.2400      9.470\n",
       "ACE                 Financials  100.8900     91.270\n",
       "...                        ...       ...        ...\n",
       "XYL                Industrials   32.3050     11.460\n",
       "YHOO    Information Technology   30.4450     35.679\n",
       "YUM     Consumer Discretionary   79.6000      3.630\n",
       "ZBH                Health Care   97.4600     49.800\n",
       "ZTS                Health Care   44.2500      2.360\n",
       "\n",
       "[494 rows x 3 columns]"
      ]
     },
     "execution_count": 38,
     "metadata": {},
     "output_type": "execute_result"
    }
   ],
   "source": [
    "sp500.rename(columns={'Book Value':'BookValue'},inplace=True)\n",
    "sp500"
   ]
  },
  {
   "cell_type": "code",
   "execution_count": 39,
   "metadata": {
    "collapsed": false
   },
   "outputs": [
    {
     "data": {
      "text/plain": [
       "             Sector     Price  BookValue      newf\n",
       "Symbol                                            \n",
       "MMM     Industrials  137.9200     20.960  275.8400\n",
       "ABT     Health Care   42.2199     15.437   84.4398"
      ]
     },
     "execution_count": 39,
     "metadata": {},
     "output_type": "execute_result"
    }
   ],
   "source": [
    "copy1 = sp500.copy()\n",
    "copy1['newf'] = sp500['Price']*2\n",
    "copy1[:2]"
   ]
  },
  {
   "cell_type": "code",
   "execution_count": 40,
   "metadata": {
    "collapsed": false
   },
   "outputs": [
    {
     "data": {
      "text/plain": [
       "             Sector      newg     Price  BookValue      newf\n",
       "Symbol                                                      \n",
       "MMM     Industrials  413.7600  137.9200     20.960  275.8400\n",
       "ABT     Health Care  126.6597   42.2199     15.437   84.4398"
      ]
     },
     "execution_count": 40,
     "metadata": {},
     "output_type": "execute_result"
    }
   ],
   "source": [
    "#insert a field\n",
    "copy1.insert(1,\"newg\",sp500['Price']*3)\n",
    "copy1[:2]"
   ]
  },
  {
   "cell_type": "code",
   "execution_count": 41,
   "metadata": {
    "collapsed": false
   },
   "outputs": [
    {
     "data": {
      "text/plain": [
       "             Sector      newg     Price  BookValue      newf  comment\n",
       "Symbol                                                               \n",
       "MMM     Industrials  413.7600  137.9200     20.960  275.8400  Comment\n",
       "ABT     Health Care  126.6597   42.2199     15.437   84.4398      NaN"
      ]
     },
     "execution_count": 41,
     "metadata": {},
     "output_type": "execute_result"
    }
   ],
   "source": [
    "s=pd.Series({'MMM':'Comment'})\n",
    "copy1['comment']=s\n",
    "copy1[:2]\n"
   ]
  },
  {
   "cell_type": "code",
   "execution_count": 42,
   "metadata": {
    "collapsed": false
   },
   "outputs": [
    {
     "data": {
      "text/plain": [
       "Symbol\n",
       "ACN     96.2400\n",
       "ABT     42.2199\n",
       "MMM    137.9200\n",
       "Name: Price, dtype: float64"
      ]
     },
     "execution_count": 42,
     "metadata": {},
     "output_type": "execute_result"
    }
   ],
   "source": [
    "copy2 = sp500.copy()\n",
    "prices = copy2.iloc[[3,1,0]].Price.copy()\n",
    "prices"
   ]
  },
  {
   "cell_type": "code",
   "execution_count": 43,
   "metadata": {
    "collapsed": false
   },
   "outputs": [
    {
     "data": {
      "text/plain": [
       "             Sector     Price  BookValue\n",
       "Symbol                                  \n",
       "MMM     Industrials  137.9200     20.960\n",
       "ABT     Health Care   42.2199     15.437\n",
       "ABBV    Health Care   57.6700      3.330"
      ]
     },
     "execution_count": 43,
     "metadata": {},
     "output_type": "execute_result"
    }
   ],
   "source": [
    "copy2.Prices = prices\n",
    "copy2[:3]"
   ]
  },
  {
   "cell_type": "code",
   "execution_count": 44,
   "metadata": {
    "collapsed": false
   },
   "outputs": [
    {
     "data": {
      "text/plain": [
       "                        Sector     Price  BookValue      newf  comment\n",
       "Symbol                                                                \n",
       "MMM                Industrials  137.9200     20.960  275.8400  Comment\n",
       "ABT                Health Care   42.2199     15.437   84.4398      NaN\n",
       "ABBV               Health Care   57.6700      3.330  115.3400      NaN\n",
       "ACN     Information Technology   96.2400      9.470  192.4800      NaN\n",
       "ACE                 Financials  100.8900     91.270  201.7800      NaN\n",
       "...                        ...       ...        ...       ...      ...\n",
       "XYL                Industrials   32.3050     11.460   64.6100      NaN\n",
       "YHOO    Information Technology   30.4450     35.679   60.8900      NaN\n",
       "YUM     Consumer Discretionary   79.6000      3.630  159.2000      NaN\n",
       "ZBH                Health Care   97.4600     49.800  194.9200      NaN\n",
       "ZTS                Health Care   44.2500      2.360   88.5000      NaN\n",
       "\n",
       "[494 rows x 5 columns]"
      ]
     },
     "execution_count": 44,
     "metadata": {},
     "output_type": "execute_result"
    }
   ],
   "source": [
    "del copy1['newg']\n",
    "copy1"
   ]
  },
  {
   "cell_type": "code",
   "execution_count": 45,
   "metadata": {
    "collapsed": false
   },
   "outputs": [
    {
     "data": {
      "text/plain": [
       "Symbol\n",
       "MMM     275.8400\n",
       "ABT      84.4398\n",
       "ABBV    115.3400\n",
       "ACN     192.4800\n",
       "ACE     201.7800\n",
       "          ...   \n",
       "XYL      64.6100\n",
       "YHOO     60.8900\n",
       "YUM     159.2000\n",
       "ZBH     194.9200\n",
       "ZTS      88.5000\n",
       "Name: newf, dtype: float64"
      ]
     },
     "execution_count": 45,
     "metadata": {},
     "output_type": "execute_result"
    }
   ],
   "source": [
    "copy1temp=copy1.pop('newf')\n",
    "copy1temp"
   ]
  },
  {
   "cell_type": "code",
   "execution_count": 46,
   "metadata": {
    "collapsed": false
   },
   "outputs": [
    {
     "data": {
      "text/plain": [
       "           Price  BookValue\n",
       "Symbol                     \n",
       "MMM     137.9200     20.960\n",
       "ABT      42.2199     15.437"
      ]
     },
     "execution_count": 46,
     "metadata": {},
     "output_type": "execute_result"
    }
   ],
   "source": [
    "copy3 = sp500[:2].copy()\n",
    "afterdrop=copy3.drop(['Sector'],axis=1) #Recom\n",
    "afterdrop"
   ]
  },
  {
   "cell_type": "code",
   "execution_count": 47,
   "metadata": {
    "collapsed": false
   },
   "outputs": [
    {
     "data": {
      "text/plain": [
       "             Sector     Price  BookValue\n",
       "Symbol                                  \n",
       "MMM     Industrials  137.9200     20.960\n",
       "ABT     Health Care   42.2199     15.437\n",
       "ABBV    Health Care   57.6700      3.330\n",
       "AFL      Financials   56.9150     39.520\n",
       "A       Health Care   35.0800     12.360\n",
       "GAS       Utilities   61.3100     32.880"
      ]
     },
     "execution_count": 47,
     "metadata": {},
     "output_type": "execute_result"
    }
   ],
   "source": [
    "#Adding rows to a DataFrame\n",
    "df21 = sp500.iloc[0:3].copy()\n",
    "df22 = sp500.iloc[[10,11,12]].copy()\n",
    "df21.append(df22)"
   ]
  },
  {
   "cell_type": "code",
   "execution_count": 48,
   "metadata": {
    "collapsed": false
   },
   "outputs": [
    {
     "data": {
      "text/plain": [
       "        PER  c1  c2\n",
       "Symbol             \n",
       "MMM       0 NaN NaN\n",
       "ABT       0 NaN NaN\n",
       "ABBV      0 NaN NaN\n",
       "r1      NaN  10  11\n",
       "r2      NaN  20  21"
      ]
     },
     "execution_count": 48,
     "metadata": {},
     "output_type": "execute_result"
    }
   ],
   "source": [
    "df4 = pd.DataFrame(0,index=df21.index,columns=['PER'])\n",
    "df4.append(df3)"
   ]
  },
  {
   "cell_type": "code",
   "execution_count": 49,
   "metadata": {
    "collapsed": false
   },
   "outputs": [
    {
     "data": {
      "text/plain": [
       "             Sector     Price  BookValue\n",
       "Symbol                                  \n",
       "MMM     Industrials  137.9200     20.960\n",
       "ABT     Health Care   42.2199     15.437\n",
       "ABBV    Health Care   57.6700      3.330\n",
       "AFL      Financials   56.9150     39.520\n",
       "A       Health Care   35.0800     12.360\n",
       "GAS       Utilities   61.3100     32.880"
      ]
     },
     "execution_count": 49,
     "metadata": {},
     "output_type": "execute_result"
    }
   ],
   "source": [
    "pd.concat([df21,df22])"
   ]
  },
  {
   "cell_type": "code",
   "execution_count": 50,
   "metadata": {
    "collapsed": false
   },
   "outputs": [
    {
     "data": {
      "text/plain": [
       "                Sector     Price  BookValue\n",
       "   Symbol                                  \n",
       "k1 MMM     Industrials  137.9200     20.960\n",
       "   ABT     Health Care   42.2199     15.437\n",
       "   ABBV    Health Care   57.6700      3.330\n",
       "k2 AFL      Financials   56.9150     39.520\n",
       "   A       Health Care   35.0800     12.360\n",
       "   GAS       Utilities   61.3100     32.880"
      ]
     },
     "execution_count": 50,
     "metadata": {},
     "output_type": "execute_result"
    }
   ],
   "source": [
    "pd.concat([df21,df22],keys=['k1','k2']) #keys"
   ]
  },
  {
   "cell_type": "code",
   "execution_count": 51,
   "metadata": {
    "collapsed": false
   },
   "outputs": [
    {
     "data": {
      "text/plain": [
       "             Sector     Price\n",
       "Symbol                       \n",
       "MMM     Industrials  137.9200\n",
       "ABT     Health Care   42.2199"
      ]
     },
     "execution_count": 51,
     "metadata": {},
     "output_type": "execute_result"
    }
   ],
   "source": [
    "#concat with axis=1\n",
    "df7=sp500[:2][[0,1]]\n",
    "df7"
   ]
  },
  {
   "cell_type": "code",
   "execution_count": 52,
   "metadata": {
    "collapsed": false
   },
   "outputs": [
    {
     "data": {
      "text/plain": [
       "        BookValue\n",
       "Symbol           \n",
       "MMM        20.960\n",
       "ABT        15.437"
      ]
     },
     "execution_count": 52,
     "metadata": {},
     "output_type": "execute_result"
    }
   ],
   "source": [
    "df8=sp500[:2][[2]]\n",
    "df8"
   ]
  },
  {
   "cell_type": "code",
   "execution_count": 53,
   "metadata": {
    "collapsed": false
   },
   "outputs": [
    {
     "data": {
      "text/plain": [
       "             Sector     Price  BookValue\n",
       "Symbol                                  \n",
       "MMM     Industrials  137.9200     20.960\n",
       "ABT     Health Care   42.2199     15.437"
      ]
     },
     "execution_count": 53,
     "metadata": {},
     "output_type": "execute_result"
    }
   ],
   "source": [
    "pd.concat([df7,df8],axis=1)"
   ]
  },
  {
   "cell_type": "code",
   "execution_count": 54,
   "metadata": {
    "collapsed": false
   },
   "outputs": [],
   "source": [
    "df9=df7.insert(1,'newfield',pd.Series(0,index=df7.index))\n",
    "df9"
   ]
  },
  {
   "cell_type": "code",
   "execution_count": 55,
   "metadata": {
    "collapsed": false
   },
   "outputs": [
    {
     "data": {
      "text/plain": [
       "        BookValue\n",
       "Symbol           \n",
       "MMM        20.960\n",
       "ABT        15.437"
      ]
     },
     "execution_count": 55,
     "metadata": {},
     "output_type": "execute_result"
    }
   ],
   "source": [
    "pd.concat([df9,df8],axis=1)"
   ]
  },
  {
   "cell_type": "code",
   "execution_count": 57,
   "metadata": {
    "collapsed": false
   },
   "outputs": [
    {
     "data": {
      "text/plain": [
       "             Sector     Price\n",
       "Symbol                       \n",
       "MMM     Industrials  137.9200\n",
       "ABT     Health Care   42.2199"
      ]
     },
     "execution_count": 57,
     "metadata": {},
     "output_type": "execute_result"
    }
   ],
   "source": [
    "df7i=sp500[:2][[0,1]]\n",
    "df7i"
   ]
  },
  {
   "cell_type": "code",
   "execution_count": 58,
   "metadata": {
    "collapsed": false
   },
   "outputs": [
    {
     "data": {
      "text/plain": [
       "             Sector    Price\n",
       "Symbol                      \n",
       "ABT     Health Care  42.2199\n",
       "ABBV    Health Care  57.6700"
      ]
     },
     "execution_count": 58,
     "metadata": {},
     "output_type": "execute_result"
    }
   ],
   "source": [
    "df8i=sp500[1:3][[0,1]]\n",
    "df8i"
   ]
  },
  {
   "cell_type": "code",
   "execution_count": 60,
   "metadata": {
    "collapsed": false
   },
   "outputs": [
    {
     "data": {
      "text/plain": [
       "             Sector    Price       Sector    Price\n",
       "Symbol                                            \n",
       "ABT     Health Care  42.2199  Health Care  42.2199"
      ]
     },
     "execution_count": 60,
     "metadata": {},
     "output_type": "execute_result"
    }
   ],
   "source": [
    "pd.concat([df7i,df8i],join='inner',axis=1)"
   ]
  },
  {
   "cell_type": "code",
   "execution_count": 64,
   "metadata": {
    "collapsed": false
   },
   "outputs": [
    {
     "data": {
      "text/plain": [
       "             Sector   Price\n",
       "Symbol                     \n",
       "MMM     Industrials  137.92\n",
       "ABT             sec    1.00"
      ]
     },
     "execution_count": 64,
     "metadata": {},
     "output_type": "execute_result"
    }
   ],
   "source": [
    "df7.loc['ABT']=['sec',1]\n",
    "df7"
   ]
  },
  {
   "cell_type": "code",
   "execution_count": 71,
   "metadata": {
    "collapsed": false
   },
   "outputs": [
    {
     "data": {
      "text/plain": [
       "             Sector   Price\n",
       "Symbol                     \n",
       "MMM     Industrials  137.92"
      ]
     },
     "execution_count": 71,
     "metadata": {},
     "output_type": "execute_result"
    }
   ],
   "source": [
    "df7c=df7.copy()\n",
    "df7c=df7c.drop(['ABT']) \n",
    "df7c"
   ]
  },
  {
   "cell_type": "code",
   "execution_count": 72,
   "metadata": {
    "collapsed": false
   },
   "outputs": [
    {
     "data": {
      "text/plain": [
       "95"
      ]
     },
     "execution_count": 72,
     "metadata": {},
     "output_type": "execute_result"
    }
   ],
   "source": [
    "selection = sp500.Price>100\n",
    "selection.sum()"
   ]
  },
  {
   "cell_type": "code",
   "execution_count": 73,
   "metadata": {
    "collapsed": false
   },
   "outputs": [
    {
     "data": {
      "text/plain": [
       "                        Sector    Price  BookValue\n",
       "Symbol                                            \n",
       "ABT                Health Care  42.2199     15.437\n",
       "ABBV               Health Care  57.6700      3.330\n",
       "ACN     Information Technology  96.2400      9.470\n",
       "ADBE    Information Technology  82.6800     13.720\n",
       "ADT                Industrials  30.9000     17.950\n",
       "...                        ...      ...        ...\n",
       "XYL                Industrials  32.3050     11.460\n",
       "YHOO    Information Technology  30.4450     35.679\n",
       "YUM     Consumer Discretionary  79.6000      3.630\n",
       "ZBH                Health Care  97.4600     49.800\n",
       "ZTS                Health Care  44.2500      2.360\n",
       "\n",
       "[399 rows x 3 columns]"
      ]
     },
     "execution_count": 73,
     "metadata": {},
     "output_type": "execute_result"
    }
   ],
   "source": [
    "sp500[~selection]"
   ]
  },
  {
   "cell_type": "code",
   "execution_count": 74,
   "metadata": {
    "collapsed": false
   },
   "outputs": [
    {
     "data": {
      "text/plain": [
       "             Sector  Price\n",
       "Symbol                    \n",
       "MMM     Industrials      6\n",
       "ABT             sec      1"
      ]
     },
     "execution_count": 74,
     "metadata": {},
     "output_type": "execute_result"
    }
   ],
   "source": [
    "#copy=sp500[:3]  (bad)\n",
    "#copy=sp500[:3].copy()   (good)\n",
    "# change index by name. but ix has lower performance(not use in production)\n",
    "df7.ix['MMM','Price']=6\n",
    "df7"
   ]
  },
  {
   "cell_type": "code",
   "execution_count": 76,
   "metadata": {
    "collapsed": false
   },
   "outputs": [
    {
     "data": {
      "text/plain": [
       "          A         B         C         D\n",
       "0 -1.085631  0.997345  0.282978 -1.506295\n",
       "1 -0.578600  1.651437 -2.426679 -0.428913\n",
       "2  1.265936 -0.866740 -0.678886 -0.094709\n",
       "3  1.491390 -0.638902 -0.443982 -0.434351\n",
       "4  2.205930  2.186786  1.004054  0.386186"
      ]
     },
     "execution_count": 76,
     "metadata": {},
     "output_type": "execute_result"
    }
   ],
   "source": [
    "np.random.seed(123)\n",
    "df61=pd.DataFrame(np.random.randn(5,4),columns=['A','B','C','D'])\n",
    "df61"
   ]
  },
  {
   "cell_type": "code",
   "execution_count": 77,
   "metadata": {
    "collapsed": false
   },
   "outputs": [
    {
     "data": {
      "text/plain": [
       "          A         B         C         D\n",
       "0 -2.171261  1.994691  0.565957 -3.012589\n",
       "1 -1.157201  3.302873 -4.853358 -0.857825\n",
       "2  2.531873 -1.733481 -1.357772 -0.189418\n",
       "3  2.982779 -1.277804 -0.887964 -0.868703\n",
       "4  4.411860  4.373572  2.008108  0.772373"
      ]
     },
     "execution_count": 77,
     "metadata": {},
     "output_type": "execute_result"
    }
   ],
   "source": [
    "df61*2"
   ]
  },
  {
   "cell_type": "code",
   "execution_count": 84,
   "metadata": {
    "collapsed": false
   },
   "outputs": [
    {
     "data": {
      "text/plain": [
       "-1.0856306033005612"
      ]
     },
     "execution_count": 84,
     "metadata": {},
     "output_type": "execute_result"
    }
   ],
   "source": [
    "intdf61=df61.loc[0]['A']  #Do not use intdf61=df61.loc[0][['A']]\n",
    "intdf61"
   ]
  },
  {
   "cell_type": "code",
   "execution_count": 88,
   "metadata": {
    "collapsed": false
   },
   "outputs": [
    {
     "data": {
      "text/plain": [
       "          A         B         C         D\n",
       "0 -1.085631  0.997345  0.282978 -1.506295\n",
       "1 -0.578600  1.651437 -2.426679 -0.428913\n",
       "2  1.265936 -0.866740 -0.678886 -0.094709\n",
       "3  1.491390 -0.638902 -0.443982 -0.434351\n",
       "4  2.205930  2.186786  1.004054  0.386186"
      ]
     },
     "execution_count": 88,
     "metadata": {},
     "output_type": "execute_result"
    }
   ],
   "source": [
    "df61-intdf61\n",
    "df61"
   ]
  },
  {
   "cell_type": "code",
   "execution_count": 90,
   "metadata": {
    "collapsed": false
   },
   "outputs": [
    {
     "data": {
      "text/plain": [
       "   A         B         C         D\n",
       "0  0  2.082976  1.368609 -0.420664\n",
       "1  0  2.230037 -1.848079  0.149688\n",
       "2  0 -2.132677 -1.944822 -1.360645\n",
       "3  0 -2.130292 -1.935372 -1.925741\n",
       "4  0 -0.019144 -1.201876 -1.819744"
      ]
     },
     "execution_count": 90,
     "metadata": {},
     "output_type": "execute_result"
    }
   ],
   "source": [
    "#use sub()\n",
    "a_col=df61['A']\n",
    "df61=df61.sub(a_col,axis=0) # must reassign df61\n",
    "df61"
   ]
  },
  {
   "cell_type": "code",
   "execution_count": 98,
   "metadata": {
    "collapsed": false
   },
   "outputs": [
    {
     "data": {
      "text/plain": [
       "     E   F   G   H\n",
       "10 NaN NaN NaN NaN\n",
       "11 NaN NaN NaN NaN\n",
       "12 NaN NaN NaN NaN\n",
       "13 NaN NaN NaN NaN\n",
       "14 NaN NaN NaN NaN"
      ]
     },
     "execution_count": 98,
     "metadata": {},
     "output_type": "execute_result"
    }
   ],
   "source": [
    "#reset_index()\n",
    "#sp500.set_index('Symbol')\n",
    "#renindex. index, columns\n",
    "reindex = df61.reindex(index=[10,11,12,13,14],columns=['E','F','G','H'])\n",
    "reindex"
   ]
  },
  {
   "cell_type": "code",
   "execution_count": 100,
   "metadata": {
    "collapsed": false
   },
   "outputs": [
    {
     "data": {
      "text/plain": [
       "                                  Price  BookValue\n",
       "Sector                 Symbol                     \n",
       "Industrials            MMM     137.9200     20.960\n",
       "Health Care            ABT      42.2199     15.437\n",
       "                       ABBV     57.6700      3.330\n",
       "Information Technology ACN      96.2400      9.470\n",
       "Financials             ACE     100.8900     91.270\n",
       "...                                 ...        ...\n",
       "Industrials            XYL      32.3050     11.460\n",
       "Information Technology YHOO     30.4450     35.679\n",
       "Consumer Discretionary YUM      79.6000      3.630\n",
       "Health Care            ZBH      97.4600     49.800\n",
       "                       ZTS      44.2500      2.360\n",
       "\n",
       "[494 rows x 2 columns]"
      ]
     },
     "execution_count": 100,
     "metadata": {},
     "output_type": "execute_result"
    }
   ],
   "source": [
    "#multiindex\n",
    "resp500=sp500.reset_index() #must have this step\n",
    "reindexsp500 = resp500.set_index(['Sector','Symbol'])\n",
    "reindexsp500"
   ]
  },
  {
   "cell_type": "code",
   "execution_count": 101,
   "metadata": {
    "collapsed": false
   },
   "outputs": [
    {
     "data": {
      "text/plain": [
       "pandas.core.index.MultiIndex"
      ]
     },
     "execution_count": 101,
     "metadata": {},
     "output_type": "execute_result"
    }
   ],
   "source": [
    "type(reindexsp500.index)"
   ]
  },
  {
   "cell_type": "code",
   "execution_count": 102,
   "metadata": {
    "collapsed": false
   },
   "outputs": [
    {
     "data": {
      "text/plain": [
       "2"
      ]
     },
     "execution_count": 102,
     "metadata": {},
     "output_type": "execute_result"
    }
   ],
   "source": [
    "len(reindexsp500.index.levels)"
   ]
  },
  {
   "cell_type": "code",
   "execution_count": 103,
   "metadata": {
    "collapsed": false
   },
   "outputs": [
    {
     "data": {
      "text/plain": [
       "Index(['Consumer Discretionary', 'Consumer Staples', 'Energy', 'Financials',\n",
       "       'Health Care', 'Industrials', 'Information Technology', 'Materials',\n",
       "       'Telecommunication Services', 'Utilities'],\n",
       "      dtype='object', name='Sector')"
      ]
     },
     "execution_count": 103,
     "metadata": {},
     "output_type": "execute_result"
    }
   ],
   "source": [
    "reindexsp500.index.levels[0]"
   ]
  },
  {
   "cell_type": "code",
   "execution_count": 104,
   "metadata": {
    "collapsed": false
   },
   "outputs": [
    {
     "data": {
      "text/plain": [
       "Index(['Industrials', 'Health Care', 'Health Care', 'Information Technology',\n",
       "       'Financials', 'Information Technology', 'Industrials', 'Utilities',\n",
       "       'Health Care', 'Financials', \n",
       "       ...\n",
       "       'Consumer Discretionary', 'Utilities', 'Information Technology',\n",
       "       'Information Technology', 'Financials', 'Industrials',\n",
       "       'Information Technology', 'Consumer Discretionary', 'Health Care',\n",
       "       'Health Care'],\n",
       "      dtype='object', name='Sector', length=494)"
      ]
     },
     "execution_count": 104,
     "metadata": {},
     "output_type": "execute_result"
    }
   ],
   "source": [
    "reindexsp500.index.get_level_values(0)"
   ]
  },
  {
   "cell_type": "code",
   "execution_count": 105,
   "metadata": {
    "collapsed": false
   },
   "outputs": [
    {
     "data": {
      "text/plain": [
       "           Price  BookValue\n",
       "Symbol                     \n",
       "MMM     137.9200     20.960\n",
       "ADT      30.9000     17.950\n",
       "ALLE     60.5500      0.000\n",
       "AAL      42.1600      5.360\n",
       "AME      51.1300     14.260\n",
       "...          ...        ...\n",
       "UPS      98.5005      2.174\n",
       "URI      66.4500     15.220\n",
       "UTX      89.1100     34.110\n",
       "WM       49.5400     11.920\n",
       "XYL      32.3050     11.460\n",
       "\n",
       "[63 rows x 2 columns]"
      ]
     },
     "execution_count": 105,
     "metadata": {},
     "output_type": "execute_result"
    }
   ],
   "source": [
    "reindexsp500.xs('Industrials') #retrive index name"
   ]
  },
  {
   "cell_type": "code",
   "execution_count": 107,
   "metadata": {
    "collapsed": false
   },
   "outputs": [
    {
     "data": {
      "text/plain": [
       "             Price  BookValue\n",
       "Sector                       \n",
       "Industrials  60.55          0"
      ]
     },
     "execution_count": 107,
     "metadata": {},
     "output_type": "execute_result"
    }
   ],
   "source": [
    "reindexsp500.xs('ALLE',level=1) #appoint indexlevel=1 (sector)"
   ]
  },
  {
   "cell_type": "code",
   "execution_count": 108,
   "metadata": {
    "collapsed": false
   },
   "outputs": [
    {
     "data": {
      "text/plain": [
       "                       Price  BookValue\n",
       "Sector      Symbol                     \n",
       "Industrials MMM     137.9200     20.960\n",
       "            ADT      30.9000     17.950\n",
       "            ALLE     60.5500      0.000\n",
       "            AAL      42.1600      5.360\n",
       "            AME      51.1300     14.260\n",
       "...                      ...        ...\n",
       "            UPS      98.5005      2.174\n",
       "            URI      66.4500     15.220\n",
       "            UTX      89.1100     34.110\n",
       "            WM       49.5400     11.920\n",
       "            XYL      32.3050     11.460\n",
       "\n",
       "[63 rows x 2 columns]"
      ]
     },
     "execution_count": 108,
     "metadata": {},
     "output_type": "execute_result"
    }
   ],
   "source": [
    "reindexsp500.xs('Industrials',drop_level=False)"
   ]
  },
  {
   "cell_type": "code",
   "execution_count": 111,
   "metadata": {
    "collapsed": false
   },
   "outputs": [
    {
     "data": {
      "text/plain": [
       "Price        98.5005\n",
       "BookValue     2.1740\n",
       "Name: (Industrials, UPS), dtype: float64"
      ]
     },
     "execution_count": 111,
     "metadata": {},
     "output_type": "execute_result"
    }
   ],
   "source": [
    "#multiple index syntax;\n",
    "reindexsp500.xs(('Industrials','UPS'))"
   ]
  },
  {
   "cell_type": "code",
   "execution_count": 113,
   "metadata": {
    "collapsed": false
   },
   "outputs": [
    {
     "data": {
      "text/plain": [
       "Price        98.5005\n",
       "BookValue     2.1740\n",
       "Name: UPS, dtype: float64"
      ]
     },
     "execution_count": 113,
     "metadata": {},
     "output_type": "execute_result"
    }
   ],
   "source": [
    "#Or\n",
    "reindexsp500.xs('Industrials').xs('UPS')"
   ]
  },
  {
   "cell_type": "code",
   "execution_count": 119,
   "metadata": {
    "collapsed": false
   },
   "outputs": [
    {
     "data": {
      "text/plain": [
       "Price    78.351726\n",
       "dtype: float64"
      ]
     },
     "execution_count": 119,
     "metadata": {},
     "output_type": "execute_result"
    }
   ],
   "source": [
    "sp500[['Price']].mean() #to calculate mean of values in each row use axis=1"
   ]
  },
  {
   "cell_type": "code",
   "execution_count": 120,
   "metadata": {
    "collapsed": false
   },
   "outputs": [
    {
     "data": {
      "text/plain": [
       "Price    58.93\n",
       "dtype: float64"
      ]
     },
     "execution_count": 120,
     "metadata": {},
     "output_type": "execute_result"
    }
   ],
   "source": [
    "sp500[['Price']].median()"
   ]
  },
  {
   "cell_type": "code",
   "execution_count": 121,
   "metadata": {
    "collapsed": false
   },
   "outputs": [
    {
     "data": {
      "text/plain": [
       "Price    GNW\n",
       "dtype: object"
      ]
     },
     "execution_count": 121,
     "metadata": {},
     "output_type": "execute_result"
    }
   ],
   "source": [
    "sp500[['Price']].idxmin()  #lowest price's index"
   ]
  },
  {
   "cell_type": "code",
   "execution_count": 122,
   "metadata": {
    "collapsed": false
   },
   "outputs": [
    {
     "data": {
      "text/plain": [
       "             Price\n",
       "Symbol            \n",
       "MMM       137.9200\n",
       "ABT       180.1399\n",
       "ABBV      237.8099\n",
       "ACN       334.0499\n",
       "ACE       434.9399\n",
       "...            ...\n",
       "XYL     38375.6457\n",
       "YHOO    38406.0907\n",
       "YUM     38485.6907\n",
       "ZBH     38583.1507\n",
       "ZTS     38627.4007\n",
       "\n",
       "[494 rows x 1 columns]"
      ]
     },
     "execution_count": 122,
     "metadata": {},
     "output_type": "execute_result"
    }
   ],
   "source": [
    "sp500[['Price']].cumsum()  #cumulative sum"
   ]
  },
  {
   "cell_type": "code",
   "execution_count": 123,
   "metadata": {
    "collapsed": false
   },
   "outputs": [
    {
     "data": {
      "text/plain": [
       "             Price\n",
       "count   493.000000\n",
       "mean     78.351726\n",
       "std      94.382986\n",
       "min       4.758000\n",
       "25%      37.780000\n",
       "50%      58.930000\n",
       "75%      91.100000\n",
       "max    1285.500000"
      ]
     },
     "execution_count": 123,
     "metadata": {},
     "output_type": "execute_result"
    }
   ],
   "source": [
    "sp500[['Price']].describe()"
   ]
  },
  {
   "cell_type": "code",
   "execution_count": 125,
   "metadata": {
    "collapsed": false
   },
   "outputs": [
    {
     "data": {
      "text/plain": [
       "(count     4\n",
       " unique    3\n",
       " top       a\n",
       " freq      2\n",
       " dtype: object, 4, array(['a', 'b', 'c', nan], dtype=object), a    2\n",
       " b    1\n",
       " c    1\n",
       " dtype: int64)"
      ]
     },
     "execution_count": 125,
     "metadata": {},
     "output_type": "execute_result"
    }
   ],
   "source": [
    "sef=pd.Series(['a','a','b','c',np.NAN])\n",
    "sef.describe(),sef.count(),sef.unique(),sef.value_counts()"
   ]
  },
  {
   "cell_type": "code",
   "execution_count": null,
   "metadata": {
    "collapsed": true
   },
   "outputs": [],
   "source": []
  }
 ],
 "metadata": {
  "kernelspec": {
   "display_name": "Python 3",
   "language": "python",
   "name": "python3"
  }
 },
 "nbformat": 4,
 "nbformat_minor": 0
}
