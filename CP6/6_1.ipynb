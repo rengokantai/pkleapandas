{
 "cells": [
  {
   "cell_type": "code",
   "execution_count": 1,
   "metadata": {
    "collapsed": true
   },
   "outputs": [],
   "source": [
    "import numpy as np\n",
    "import pandas as pd\n",
    "pd.set_option('display.notebook_repr_html',False)\n",
    "pd.set_option('display.max_columns',10)\n",
    "pd.set_option('display.max_rows',10)\n"
   ]
  },
  {
   "cell_type": "code",
   "execution_count": 7,
   "metadata": {
    "collapsed": false
   },
   "outputs": [
    {
     "data": {
      "text/plain": [
       "           Price  Dividend Yield  Price/Earnings  Earnings/Share  Book Value\n",
       "Symbol                                                                      \n",
       "MMM     137.9200            2.94         18.0000           7.660      20.960\n",
       "ABT      42.2199            2.22         14.1868           2.976      15.437\n",
       "ABBV     57.6700            3.33         44.8400           1.290       3.330\n",
       "ACN      96.2400            2.09         20.5100           4.690       9.470\n",
       "ACE     100.8900            2.68         11.3500           8.890      91.270"
      ]
     },
     "execution_count": 7,
     "metadata": {},
     "output_type": "execute_result"
    }
   ],
   "source": [
    "stock = pd.read_csv('../CP5/financial.csv',index_col=0,usecols=[0,3,4,5,6,7])\n",
    "stock.head()"
   ]
  },
  {
   "cell_type": "code",
   "execution_count": 8,
   "metadata": {
    "collapsed": false
   },
   "outputs": [
    {
     "data": {
      "text/plain": [
       "Price             float64\n",
       "Dividend Yield    float64\n",
       "Price/Earnings    float64\n",
       "Earnings/Share    float64\n",
       "Book Value        float64\n",
       "dtype: object"
      ]
     },
     "execution_count": 8,
     "metadata": {},
     "output_type": "execute_result"
    }
   ],
   "source": [
    "stock.dtypes"
   ]
  },
  {
   "cell_type": "code",
   "execution_count": 10,
   "metadata": {
    "collapsed": false
   },
   "outputs": [
    {
     "data": {
      "text/plain": [
       "Price             float64\n",
       "Dividend Yield    float64\n",
       "Price/Earnings    float64\n",
       "Earnings/Share    float64\n",
       "Book Value         object\n",
       "dtype: object"
      ]
     },
     "execution_count": 10,
     "metadata": {},
     "output_type": "execute_result"
    }
   ],
   "source": [
    "#Or reassign datatype\n",
    "\n",
    "stock = pd.read_csv('../CP5/financial.csv',index_col=0,usecols=[0,3,4,5,6,7],dtype={'Book Value':np.object})\n",
    "\n",
    "stock.dtypes"
   ]
  },
  {
   "cell_type": "code",
   "execution_count": 33,
   "metadata": {
    "collapsed": false
   },
   "outputs": [
    {
     "data": {
      "text/plain": [
       "      A         B\n",
       "0   MMM  137.9200\n",
       "1   ABT   42.2199\n",
       "2  ABBV   57.6700\n",
       "3   ACN   96.2400\n",
       "4   ACE  100.8900"
      ]
     },
     "execution_count": 33,
     "metadata": {},
     "output_type": "execute_result"
    }
   ],
   "source": [
    "#Reassign name when reading files\n",
    "stock = pd.read_csv('../CP5/financial.csv',usecols=[0,3],header=0,names=['A','B'])\n",
    "stock.head()"
   ]
  },
  {
   "cell_type": "code",
   "execution_count": 39,
   "metadata": {
    "collapsed": false
   },
   "outputs": [
    {
     "data": {
      "text/plain": [
       "                       Name                  Sector\n",
       "Symbol                                             \n",
       "MMM                   3M Co             Industrials\n",
       "ABT     Abbott Laboratories             Health Care\n",
       "ABBV                 AbbVie             Health Care\n",
       "ACN           Accenture Plc  Information Technology\n",
       "ACE             ACE Limited              Financials"
      ]
     },
     "execution_count": 39,
     "metadata": {},
     "output_type": "execute_result"
    }
   ],
   "source": [
    "df = pd.read_table('../CP5/financial.csv',index_col=['Symbol'],usecols=[0,1,2],sep=',')\n",
    "df.head()"
   ]
  },
  {
   "cell_type": "code",
   "execution_count": 38,
   "metadata": {
    "collapsed": false
   },
   "outputs": [
    {
     "name": "stdout",
     "output_type": "stream",
     "text": [
      "Symbol|Name|Sector\n",
      "MMM|3M Co|Industrials\n",
      "ABT|Abbott Laboratories|Health Care\n",
      "ABBV|AbbVie|Health Care\n",
      "ACN|Accenture Plc|Information Technology\n"
     ]
    }
   ],
   "source": [
    "df.to_csv('financial.txt',sep='|')\n",
    "!head -n 5 financial.txt"
   ]
  },
  {
   "cell_type": "code",
   "execution_count": 41,
   "metadata": {
    "collapsed": false
   },
   "outputs": [
    {
     "data": {
      "text/plain": [
       "    Symbol                    Name                  Sector     Price  \\\n",
       "0      MMM                   3M Co             Industrials  137.9200   \n",
       "1      ABT     Abbott Laboratories             Health Care   42.2199   \n",
       "2      ACE             ACE Limited              Financials  100.8900   \n",
       "3     ADBE           Adobe Systems  Information Technology   82.6800   \n",
       "4      ADT          ADT Corp (The)             Industrials   30.9000   \n",
       "..     ...                     ...                     ...       ...   \n",
       "487    XYL                   Xylem             Industrials   32.3050   \n",
       "488   YHOO                   Yahoo  Information Technology   30.4450   \n",
       "489    YUM              Yum Brands  Consumer Discretionary   79.6000   \n",
       "490    ZBH  Zimmer Biomet Holdings             Health Care   97.4600   \n",
       "491    ZTS                  Zoetis             Health Care   44.2500   \n",
       "\n",
       "     Dividend Yield                        ...                          \\\n",
       "0              2.94                        ...                           \n",
       "1              2.22                        ...                           \n",
       "2              2.68                        ...                           \n",
       "3              0.00                        ...                           \n",
       "4              2.80                        ...                           \n",
       "..              ...                        ...                           \n",
       "487            1.75                        ...                           \n",
       "488             NaN                        ...                           \n",
       "489            2.05                        ...                           \n",
       "490            0.89                        ...                           \n",
       "491            0.74                        ...                           \n",
       "\n",
       "     Market Cap   EBITDA  Price/Sales  Price/Book  \\\n",
       "0         86.16  8.52000       2.8100      6.6800   \n",
       "1         62.93  4.64000       3.1478      2.8049   \n",
       "2         32.67  3.86000       1.7000      1.1100   \n",
       "3         41.23  1.10000       9.1100      6.0700   \n",
       "4          5.25  1.80000       1.5100      1.7600   \n",
       "..          ...      ...          ...         ...   \n",
       "487        5.86  0.60900       1.5740      2.8470   \n",
       "488       28.66  0.54175       6.0250      0.8740   \n",
       "489       34.32  2.70000       2.6500     22.1400   \n",
       "490       19.82  1.81000       4.3100      1.9700   \n",
       "491       22.08  1.39000       4.6200     18.9000   \n",
       "\n",
       "                                           SEC Filings  \n",
       "0    http://www.sec.gov/cgi-bin/browse-edgar?action...  \n",
       "1    http://www.sec.gov/cgi-bin/browse-edgar?action...  \n",
       "2    http://www.sec.gov/cgi-bin/browse-edgar?action...  \n",
       "3    http://www.sec.gov/cgi-bin/browse-edgar?action...  \n",
       "4    http://www.sec.gov/cgi-bin/browse-edgar?action...  \n",
       "..                                                 ...  \n",
       "487  http://www.sec.gov/cgi-bin/browse-edgar?action...  \n",
       "488  http://www.sec.gov/cgi-bin/browse-edgar?action...  \n",
       "489  http://www.sec.gov/cgi-bin/browse-edgar?action...  \n",
       "490  http://www.sec.gov/cgi-bin/browse-edgar?action...  \n",
       "491  http://www.sec.gov/cgi-bin/browse-edgar?action...  \n",
       "\n",
       "[492 rows x 15 columns]"
      ]
     },
     "execution_count": 41,
     "metadata": {},
     "output_type": "execute_result"
    }
   ],
   "source": [
    "df=pd.read_csv('../CP5/financial.csv',skiprows=[3,4])\n",
    "df"
   ]
  },
  {
   "cell_type": "code",
   "execution_count": 43,
   "metadata": {
    "collapsed": false
   },
   "outputs": [
    {
     "data": {
      "text/plain": [
       "    Symbol                 Name                  Sector     Price  \\\n",
       "0      MMM                3M Co             Industrials  137.9200   \n",
       "1      ABT  Abbott Laboratories             Health Care   42.2199   \n",
       "2     ABBV               AbbVie             Health Care   57.6700   \n",
       "3      ACN        Accenture Plc  Information Technology   96.2400   \n",
       "4      ACE          ACE Limited              Financials  100.8900   \n",
       "..     ...                  ...                     ...       ...   \n",
       "487   XLNX               Xilinx  Information Technology   41.5900   \n",
       "488     XL         XL Group Plc              Financials   36.9100   \n",
       "489    XYL                Xylem             Industrials   32.3050   \n",
       "490   YHOO                Yahoo  Information Technology   30.4450   \n",
       "491    YUM           Yum Brands  Consumer Discretionary   79.6000   \n",
       "\n",
       "     Dividend Yield                        ...                          \\\n",
       "0              2.94                        ...                           \n",
       "1              2.22                        ...                           \n",
       "2              3.33                        ...                           \n",
       "3              2.09                        ...                           \n",
       "4              2.68                        ...                           \n",
       "..              ...                        ...                           \n",
       "487            2.91                        ...                           \n",
       "488            2.20                        ...                           \n",
       "489            1.75                        ...                           \n",
       "490             NaN                        ...                           \n",
       "491            2.05                        ...                           \n",
       "\n",
       "     Market Cap   EBITDA  Price/Sales  Price/Book  \\\n",
       "0         86.16  8.52000       2.8100      6.6800   \n",
       "1         62.93  4.64000       3.1478      2.8049   \n",
       "2         95.46  7.83000       4.6800     17.8600   \n",
       "3         60.07  4.90000       1.9900     10.4000   \n",
       "4         32.67  3.86000       1.7000      1.1100   \n",
       "..          ...      ...          ...         ...   \n",
       "487       10.76  0.82541       4.7400      4.1400   \n",
       "488       11.16  1.48000       1.5400      0.9300   \n",
       "489        5.86  0.60900       1.5740      2.8470   \n",
       "490       28.66  0.54175       6.0250      0.8740   \n",
       "491       34.32  2.70000       2.6500     22.1400   \n",
       "\n",
       "                                           SEC Filings  \n",
       "0    http://www.sec.gov/cgi-bin/browse-edgar?action...  \n",
       "1    http://www.sec.gov/cgi-bin/browse-edgar?action...  \n",
       "2    http://www.sec.gov/cgi-bin/browse-edgar?action...  \n",
       "3    http://www.sec.gov/cgi-bin/browse-edgar?action...  \n",
       "4    http://www.sec.gov/cgi-bin/browse-edgar?action...  \n",
       "..                                                 ...  \n",
       "487  http://www.sec.gov/cgi-bin/browse-edgar?action...  \n",
       "488  http://www.sec.gov/cgi-bin/browse-edgar?action...  \n",
       "489  http://www.sec.gov/cgi-bin/browse-edgar?action...  \n",
       "490  http://www.sec.gov/cgi-bin/browse-edgar?action...  \n",
       "491  http://www.sec.gov/cgi-bin/browse-edgar?action...  \n",
       "\n",
       "[492 rows x 15 columns]"
      ]
     },
     "execution_count": 43,
     "metadata": {},
     "output_type": "execute_result"
    }
   ],
   "source": [
    "df=pd.read_csv('../CP5/financial.csv',skip_footer=2,engine='python')\n",
    "df"
   ]
  },
  {
   "cell_type": "code",
   "execution_count": 44,
   "metadata": {
    "collapsed": false
   },
   "outputs": [
    {
     "data": {
      "text/plain": [
       "  Symbol                 Name                  Sector     Price  \\\n",
       "0    MMM                3M Co             Industrials  137.9200   \n",
       "1    ABT  Abbott Laboratories             Health Care   42.2199   \n",
       "2   ABBV               AbbVie             Health Care   57.6700   \n",
       "3    ACN        Accenture Plc  Information Technology   96.2400   \n",
       "4    ACE          ACE Limited              Financials  100.8900   \n",
       "\n",
       "   Dividend Yield                        ...                          \\\n",
       "0            2.94                        ...                           \n",
       "1            2.22                        ...                           \n",
       "2            3.33                        ...                           \n",
       "3            2.09                        ...                           \n",
       "4            2.68                        ...                           \n",
       "\n",
       "   Market Cap  EBITDA  Price/Sales  Price/Book  \\\n",
       "0       86.16    8.52       2.8100      6.6800   \n",
       "1       62.93    4.64       3.1478      2.8049   \n",
       "2       95.46    7.83       4.6800     17.8600   \n",
       "3       60.07    4.90       1.9900     10.4000   \n",
       "4       32.67    3.86       1.7000      1.1100   \n",
       "\n",
       "                                         SEC Filings  \n",
       "0  http://www.sec.gov/cgi-bin/browse-edgar?action...  \n",
       "1  http://www.sec.gov/cgi-bin/browse-edgar?action...  \n",
       "2  http://www.sec.gov/cgi-bin/browse-edgar?action...  \n",
       "3  http://www.sec.gov/cgi-bin/browse-edgar?action...  \n",
       "4  http://www.sec.gov/cgi-bin/browse-edgar?action...  \n",
       "\n",
       "[5 rows x 15 columns]"
      ]
     },
     "execution_count": 44,
     "metadata": {},
     "output_type": "execute_result"
    }
   ],
   "source": [
    "df=pd.read_csv('../CP5/financial.csv',nrows=5)\n",
    "df"
   ]
  },
  {
   "cell_type": "code",
   "execution_count": null,
   "metadata": {
    "collapsed": true
   },
   "outputs": [],
   "source": []
  }
 ],
 "metadata": {
  "kernelspec": {
   "display_name": "Python 3",
   "language": "python",
   "name": "python3"
  },
  "language_info": {
   "codemirror_mode": {
    "name": "ipython",
    "version": 3
   },
   "file_extension": ".py",
   "mimetype": "text/x-python",
   "name": "python",
   "nbconvert_exporter": "python",
   "pygments_lexer": "ipython3",
   "version": "3.4.3"
  }
 },
 "nbformat": 4,
 "nbformat_minor": 0
}
